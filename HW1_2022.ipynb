{
  "nbformat": 4,
  "nbformat_minor": 0,
  "metadata": {
    "colab": {
      "provenance": []
    },
    "kernelspec": {
      "name": "ir",
      "display_name": "R"
    },
    "language_info": {
      "name": "R"
    }
  },
  "cells": [
    {
      "cell_type": "markdown",
      "metadata": {
        "id": "S5xKlqTBHL2f"
      },
      "source": [
        "## Intro to Data Science - HW 1\n",
        "##### Copyright 2022, Jeffrey Stanton, Jeffrey Saltz, and Jasmina Tacheva"
      ]
    },
    {
      "cell_type": "code",
      "execution_count": null,
      "metadata": {
        "id": "TDArhKc0HL2g"
      },
      "outputs": [],
      "source": [
        "# Enter your name here: "
      ]
    },
    {
      "cell_type": "markdown",
      "metadata": {
        "id": "cGHitmRjHL2g"
      },
      "source": [
        "### Attribution statement: (choose only one and delete the rest)"
      ]
    },
    {
      "cell_type": "code",
      "execution_count": null,
      "metadata": {
        "id": "OD8DkFNXHL2h"
      },
      "outputs": [],
      "source": [
        "# 1. I did this homework by myself, with help from the book and the professor.\n",
        "# 2. I did this homework with help from the book and the professor and these Internet sources:\n",
        "# 3. I did this homework with help from <Name of another student> but did not cut and paste any code."
      ]
    },
    {
      "cell_type": "markdown",
      "metadata": {
        "id": "wByWQ_c-HL2h"
      },
      "source": [
        "Define a variable:"
      ]
    },
    {
      "cell_type": "code",
      "execution_count": null,
      "metadata": {
        "id": "7aFjla_uHL2h"
      },
      "outputs": [],
      "source": [
        "value <- 150"
      ]
    },
    {
      "cell_type": "markdown",
      "source": [
        "Print the content of this new variable:"
      ],
      "metadata": {
        "id": "S1PgVuy9ZaCh"
      }
    },
    {
      "cell_type": "code",
      "source": [
        "x"
      ],
      "metadata": {
        "id": "CBVUSYQFZh3f"
      },
      "execution_count": null,
      "outputs": []
    },
    {
      "cell_type": "markdown",
      "metadata": {
        "id": "uoi3mEmmHL2i"
      },
      "source": [
        "Define the following vectors, which represent the **hospital capacity** (measured in number of hospital beds) and **number of colleges** in each of the five counties in Central New York (CNY) – **Cayuga**, **Cortland**, **Madison**, **Onondaga**, and **Oswego**, in this order (e.g. the first number in the **capacity** vector suggests there are 124 hospital beds in Cayuga county):"
      ]
    },
    {
      "cell_type": "code",
      "execution_count": null,
      "metadata": {
        "id": "6EotifYEHL2i"
      },
      "outputs": [],
      "source": [
        "capacity <- c(124, 70, 51, 1403, 86)\n",
        "colleges <- c(2, 2, 3, 9, 2)"
      ]
    },
    {
      "cell_type": "markdown",
      "metadata": {
        "id": "TmQjdH24HL2i"
      },
      "source": [
        "# Part 1: Calculating statistics using R  "
      ]
    },
    {
      "cell_type": "markdown",
      "metadata": {
        "id": "52NxYexbHL2j"
      },
      "source": [
        "A.\tShow the number of observations in the **capacity** vector with the length() function: "
      ]
    },
    {
      "cell_type": "code",
      "execution_count": null,
      "metadata": {
        "id": "jvgD1j45HL2j"
      },
      "outputs": [],
      "source": [
        "length(capacity)"
      ]
    },
    {
      "cell_type": "markdown",
      "metadata": {
        "id": "ufDhv11EHL2j"
      },
      "source": [
        "B.\tShow the number of observations in the **colleges** vector with the length() function:"
      ]
    },
    {
      "cell_type": "code",
      "execution_count": null,
      "metadata": {
        "id": "0zMfsQ4gHL2j"
      },
      "outputs": [],
      "source": []
    },
    {
      "cell_type": "markdown",
      "metadata": {
        "id": "RXxu154rHL2k"
      },
      "source": [
        "C.\tCalculate the average number of colleges in CNY using the mean() function:"
      ]
    },
    {
      "cell_type": "code",
      "execution_count": null,
      "metadata": {
        "id": "ugsYR8rCHL2k"
      },
      "outputs": [],
      "source": []
    },
    {
      "cell_type": "markdown",
      "metadata": {
        "id": "segX05F6HL2l"
      },
      "source": [
        "D.\tCalculate the total number of colleges in CNY using the sum() function:"
      ]
    },
    {
      "cell_type": "code",
      "execution_count": null,
      "metadata": {
        "id": "jVFDBr3CHL2l"
      },
      "outputs": [],
      "source": []
    },
    {
      "cell_type": "markdown",
      "metadata": {
        "id": "ULXspYuJHL2j"
      },
      "source": [
        "E.\tCalculate the average CNY hospital capacity using the mean() function:"
      ]
    },
    {
      "cell_type": "code",
      "source": [],
      "metadata": {
        "id": "UOg58jIeYagr"
      },
      "execution_count": null,
      "outputs": []
    },
    {
      "cell_type": "markdown",
      "metadata": {
        "id": "9RNBrTK1HL2k"
      },
      "source": [
        "F.\tCalculate the total hospital capacity in CNY using the sum() function:"
      ]
    },
    {
      "cell_type": "code",
      "execution_count": null,
      "metadata": {
        "id": "EzytqkgqHL2l"
      },
      "outputs": [],
      "source": []
    },
    {
      "cell_type": "markdown",
      "metadata": {
        "id": "41RxK-ZjHL2l"
      },
      "source": [
        "G.\tCalculate the average number of colleges in CNY again, this time using **the results from steps B & D**:"
      ]
    },
    {
      "cell_type": "code",
      "execution_count": null,
      "metadata": {
        "id": "muqLZ5B5HL2l"
      },
      "outputs": [],
      "source": []
    },
    {
      "cell_type": "markdown",
      "metadata": {
        "id": "m-7vj6y6HL2l"
      },
      "source": [
        "H.\tCalculate the average CNY hospital capacity again, this time using **the results from steps A & F**:"
      ]
    },
    {
      "cell_type": "code",
      "execution_count": null,
      "metadata": {
        "id": "FZu31EbIHL2m"
      },
      "outputs": [],
      "source": []
    },
    {
      "cell_type": "markdown",
      "metadata": {
        "id": "RETC7Pb_HL2m"
      },
      "source": [
        "# Part 2: Using the max/min and range functions in R"
      ]
    },
    {
      "cell_type": "markdown",
      "metadata": {
        "id": "s2gcH8z-HL2m"
      },
      "source": [
        "I.\tHow many colleges does the county with most colleges have? Hint: Use the max() function:"
      ]
    },
    {
      "cell_type": "code",
      "execution_count": null,
      "metadata": {
        "id": "dA7clQKuHL2m"
      },
      "outputs": [],
      "source": []
    },
    {
      "cell_type": "markdown",
      "metadata": {
        "id": "EwpI86yFHL2m"
      },
      "source": [
        "J.\tWhat is the hospital capacity of the county with the smallest number of hospital beds in CNY? **Hint:** Use the min() function:"
      ]
    },
    {
      "cell_type": "code",
      "execution_count": null,
      "metadata": {
        "id": "HZtjBBPoHL2m"
      },
      "outputs": [],
      "source": []
    },
    {
      "cell_type": "markdown",
      "metadata": {
        "id": "z-UdneF1HL2m"
      },
      "source": [
        "K.\tDisplay the number of beds in the county with the highest hospital capacity and the county with the lowest hospital capacity together, using a single command. **Hint:** Use the range() function:"
      ]
    },
    {
      "cell_type": "code",
      "execution_count": null,
      "metadata": {
        "id": "MCzwj3mFHL2m"
      },
      "outputs": [],
      "source": []
    },
    {
      "cell_type": "markdown",
      "metadata": {
        "id": "ge0TOYQ1HL2n"
      },
      "source": [
        "# Part 3: Vector Math"
      ]
    },
    {
      "cell_type": "markdown",
      "metadata": {
        "id": "lb2y_mUcHL2n"
      },
      "source": [
        "L.\tCreate a new vector called **lowerCap**, which is the current hospital capacity of each county **1 10** (each county has 100 more hospital beds):"
      ]
    },
    {
      "cell_type": "code",
      "execution_count": null,
      "metadata": {
        "id": "6THBDj_jHL2n"
      },
      "outputs": [],
      "source": []
    },
    {
      "cell_type": "markdown",
      "metadata": {
        "id": "5hBrL9qrHL2n"
      },
      "source": [
        "M.\t Calculate the average of **lowerCap**:"
      ]
    },
    {
      "cell_type": "code",
      "execution_count": null,
      "metadata": {
        "id": "BgDxBx6KHL2n"
      },
      "outputs": [],
      "source": []
    },
    {
      "cell_type": "markdown",
      "source": [
        "N. Create another vector called **megaCap**, which is the original hospital capacity in each county (stored in **capacity**) plus **value** (the variable we declared in the beginning of this assignment). "
      ],
      "metadata": {
        "id": "rxATHYoNZwh4"
      }
    },
    {
      "cell_type": "code",
      "source": [],
      "metadata": {
        "id": "pdDMbtKvaQKL"
      },
      "execution_count": null,
      "outputs": []
    },
    {
      "cell_type": "markdown",
      "source": [
        "O. Print the content of **megaCap**:"
      ],
      "metadata": {
        "id": "GUjZ8-e7aQhU"
      }
    },
    {
      "cell_type": "code",
      "source": [],
      "metadata": {
        "id": "FR8hk50VaWca"
      },
      "execution_count": null,
      "outputs": []
    },
    {
      "cell_type": "markdown",
      "metadata": {
        "id": "M-T4uW3kHL2n"
      },
      "source": [
        "P.\tIn a variable called **bigCap**, store all the hospital numbers from the original **capacity** vector which are **greater than 80** (using **subsetting** in R):"
      ]
    },
    {
      "cell_type": "code",
      "execution_count": null,
      "metadata": {
        "id": "UuLSlpBqHL2n"
      },
      "outputs": [],
      "source": []
    },
    {
      "cell_type": "markdown",
      "metadata": {
        "id": "7BLOes79HL2o"
      },
      "source": [
        "Q.\tPrint the length of **bigCap** and explain in a comment how many counties have more than 80 hospital beds:"
      ]
    },
    {
      "cell_type": "code",
      "execution_count": null,
      "metadata": {
        "id": "ppurVMh4HL2o"
      },
      "outputs": [],
      "source": []
    }
  ]
}